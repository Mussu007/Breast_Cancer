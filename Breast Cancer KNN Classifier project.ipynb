{
 "cells": [
  {
   "cell_type": "markdown",
   "id": "c78730fc",
   "metadata": {},
   "source": [
    "The dataset is from UCI Machine Learning Repository - Breat Cancer Wisnconsin (Original)"
   ]
  },
  {
   "cell_type": "code",
   "execution_count": 1,
   "id": "14a6acdc",
   "metadata": {},
   "outputs": [],
   "source": [
    "## Importing libraries\n",
    "import pandas as pd\n",
    "import numpy as np\n",
    "import seaborn as sns\n",
    "import matplotlib.pyplot as plt\n",
    "import os\n",
    "import warnings\n",
    "warnings.filterwarnings('ignore')\n",
    "%matplotlib inline"
   ]
  },
  {
   "cell_type": "code",
   "execution_count": 2,
   "id": "3d115804",
   "metadata": {},
   "outputs": [
    {
     "data": {
      "text/html": [
       "<div>\n",
       "<style scoped>\n",
       "    .dataframe tbody tr th:only-of-type {\n",
       "        vertical-align: middle;\n",
       "    }\n",
       "\n",
       "    .dataframe tbody tr th {\n",
       "        vertical-align: top;\n",
       "    }\n",
       "\n",
       "    .dataframe thead th {\n",
       "        text-align: right;\n",
       "    }\n",
       "</style>\n",
       "<table border=\"1\" class=\"dataframe\">\n",
       "  <thead>\n",
       "    <tr style=\"text-align: right;\">\n",
       "      <th></th>\n",
       "      <th>0</th>\n",
       "      <th>1</th>\n",
       "      <th>2</th>\n",
       "      <th>3</th>\n",
       "      <th>4</th>\n",
       "      <th>5</th>\n",
       "      <th>6</th>\n",
       "      <th>7</th>\n",
       "      <th>8</th>\n",
       "      <th>9</th>\n",
       "      <th>10</th>\n",
       "    </tr>\n",
       "  </thead>\n",
       "  <tbody>\n",
       "    <tr>\n",
       "      <th>0</th>\n",
       "      <td>1000025</td>\n",
       "      <td>5</td>\n",
       "      <td>1</td>\n",
       "      <td>1</td>\n",
       "      <td>1</td>\n",
       "      <td>2</td>\n",
       "      <td>1</td>\n",
       "      <td>3</td>\n",
       "      <td>1</td>\n",
       "      <td>1</td>\n",
       "      <td>2</td>\n",
       "    </tr>\n",
       "    <tr>\n",
       "      <th>1</th>\n",
       "      <td>1002945</td>\n",
       "      <td>5</td>\n",
       "      <td>4</td>\n",
       "      <td>4</td>\n",
       "      <td>5</td>\n",
       "      <td>7</td>\n",
       "      <td>10</td>\n",
       "      <td>3</td>\n",
       "      <td>2</td>\n",
       "      <td>1</td>\n",
       "      <td>2</td>\n",
       "    </tr>\n",
       "    <tr>\n",
       "      <th>2</th>\n",
       "      <td>1015425</td>\n",
       "      <td>3</td>\n",
       "      <td>1</td>\n",
       "      <td>1</td>\n",
       "      <td>1</td>\n",
       "      <td>2</td>\n",
       "      <td>2</td>\n",
       "      <td>3</td>\n",
       "      <td>1</td>\n",
       "      <td>1</td>\n",
       "      <td>2</td>\n",
       "    </tr>\n",
       "    <tr>\n",
       "      <th>3</th>\n",
       "      <td>1016277</td>\n",
       "      <td>6</td>\n",
       "      <td>8</td>\n",
       "      <td>8</td>\n",
       "      <td>1</td>\n",
       "      <td>3</td>\n",
       "      <td>4</td>\n",
       "      <td>3</td>\n",
       "      <td>7</td>\n",
       "      <td>1</td>\n",
       "      <td>2</td>\n",
       "    </tr>\n",
       "    <tr>\n",
       "      <th>4</th>\n",
       "      <td>1017023</td>\n",
       "      <td>4</td>\n",
       "      <td>1</td>\n",
       "      <td>1</td>\n",
       "      <td>3</td>\n",
       "      <td>2</td>\n",
       "      <td>1</td>\n",
       "      <td>3</td>\n",
       "      <td>1</td>\n",
       "      <td>1</td>\n",
       "      <td>2</td>\n",
       "    </tr>\n",
       "  </tbody>\n",
       "</table>\n",
       "</div>"
      ],
      "text/plain": [
       "        0   1   2   3   4   5   6   7   8   9   10\n",
       "0  1000025   5   1   1   1   2   1   3   1   1   2\n",
       "1  1002945   5   4   4   5   7  10   3   2   1   2\n",
       "2  1015425   3   1   1   1   2   2   3   1   1   2\n",
       "3  1016277   6   8   8   1   3   4   3   7   1   2\n",
       "4  1017023   4   1   1   3   2   1   3   1   1   2"
      ]
     },
     "execution_count": 2,
     "metadata": {},
     "output_type": "execute_result"
    }
   ],
   "source": [
    "## Importing dataset\n",
    "\n",
    "os.chdir(\"F:/My Python projects\")\n",
    "df = pd.read_csv(\"breast-cancer-wisconsin.data\", header = None)\n",
    "df.shape\n",
    "df.head()"
   ]
  },
  {
   "cell_type": "code",
   "execution_count": 3,
   "id": "7ce22bf5",
   "metadata": {},
   "outputs": [
    {
     "name": "stdout",
     "output_type": "stream",
     "text": [
      "<class 'pandas.core.frame.DataFrame'>\n",
      "RangeIndex: 699 entries, 0 to 698\n",
      "Data columns (total 11 columns):\n",
      " #   Column                       Non-Null Count  Dtype \n",
      "---  ------                       --------------  ----- \n",
      " 0   Id                           699 non-null    int64 \n",
      " 1   clump_thickness              699 non-null    int64 \n",
      " 2   uniformity_cell_size         699 non-null    int64 \n",
      " 3   uniformity_cell_shape        699 non-null    int64 \n",
      " 4   marginal_adhesion            699 non-null    int64 \n",
      " 5   single_epithelial_cell_size  699 non-null    int64 \n",
      " 6   bare_nuclei                  699 non-null    object\n",
      " 7   bland_chromatin              699 non-null    int64 \n",
      " 8   normal_nucleoli              699 non-null    int64 \n",
      " 9   mitoses                      699 non-null    int64 \n",
      " 10  class                        699 non-null    int64 \n",
      "dtypes: int64(10), object(1)\n",
      "memory usage: 60.2+ KB\n"
     ]
    }
   ],
   "source": [
    "## Renaming columns - The column names are taken from the UCI Machine learning site - \n",
    "## URL - https://archive.ics.uci.edu/ml/datasets/breast+cancer+wisconsin+%28original%29\n",
    "\n",
    "col_names = ['Id', 'clump_thickness', 'uniformity_cell_size', 'uniformity_cell_shape', 'marginal_adhesion',\n",
    "            'single_epithelial_cell_size', 'bare_nuclei', 'bland_chromatin', 'normal_nucleoli', 'mitoses',\n",
    "            'class']\n",
    "df.columns = col_names\n",
    "df.columns\n",
    "df.head()\n",
    "df.info()"
   ]
  },
  {
   "cell_type": "code",
   "execution_count": 4,
   "id": "1044ae2a",
   "metadata": {},
   "outputs": [
    {
     "data": {
      "text/html": [
       "<div>\n",
       "<style scoped>\n",
       "    .dataframe tbody tr th:only-of-type {\n",
       "        vertical-align: middle;\n",
       "    }\n",
       "\n",
       "    .dataframe tbody tr th {\n",
       "        vertical-align: top;\n",
       "    }\n",
       "\n",
       "    .dataframe thead th {\n",
       "        text-align: right;\n",
       "    }\n",
       "</style>\n",
       "<table border=\"1\" class=\"dataframe\">\n",
       "  <thead>\n",
       "    <tr style=\"text-align: right;\">\n",
       "      <th></th>\n",
       "      <th>clump_thickness</th>\n",
       "      <th>uniformity_cell_size</th>\n",
       "      <th>uniformity_cell_shape</th>\n",
       "      <th>marginal_adhesion</th>\n",
       "      <th>single_epithelial_cell_size</th>\n",
       "      <th>bare_nuclei</th>\n",
       "      <th>bland_chromatin</th>\n",
       "      <th>normal_nucleoli</th>\n",
       "      <th>mitoses</th>\n",
       "      <th>class</th>\n",
       "    </tr>\n",
       "  </thead>\n",
       "  <tbody>\n",
       "    <tr>\n",
       "      <th>0</th>\n",
       "      <td>5</td>\n",
       "      <td>1</td>\n",
       "      <td>1</td>\n",
       "      <td>1</td>\n",
       "      <td>2</td>\n",
       "      <td>1</td>\n",
       "      <td>3</td>\n",
       "      <td>1</td>\n",
       "      <td>1</td>\n",
       "      <td>2</td>\n",
       "    </tr>\n",
       "    <tr>\n",
       "      <th>1</th>\n",
       "      <td>5</td>\n",
       "      <td>4</td>\n",
       "      <td>4</td>\n",
       "      <td>5</td>\n",
       "      <td>7</td>\n",
       "      <td>10</td>\n",
       "      <td>3</td>\n",
       "      <td>2</td>\n",
       "      <td>1</td>\n",
       "      <td>2</td>\n",
       "    </tr>\n",
       "    <tr>\n",
       "      <th>2</th>\n",
       "      <td>3</td>\n",
       "      <td>1</td>\n",
       "      <td>1</td>\n",
       "      <td>1</td>\n",
       "      <td>2</td>\n",
       "      <td>2</td>\n",
       "      <td>3</td>\n",
       "      <td>1</td>\n",
       "      <td>1</td>\n",
       "      <td>2</td>\n",
       "    </tr>\n",
       "    <tr>\n",
       "      <th>3</th>\n",
       "      <td>6</td>\n",
       "      <td>8</td>\n",
       "      <td>8</td>\n",
       "      <td>1</td>\n",
       "      <td>3</td>\n",
       "      <td>4</td>\n",
       "      <td>3</td>\n",
       "      <td>7</td>\n",
       "      <td>1</td>\n",
       "      <td>2</td>\n",
       "    </tr>\n",
       "    <tr>\n",
       "      <th>4</th>\n",
       "      <td>4</td>\n",
       "      <td>1</td>\n",
       "      <td>1</td>\n",
       "      <td>3</td>\n",
       "      <td>2</td>\n",
       "      <td>1</td>\n",
       "      <td>3</td>\n",
       "      <td>1</td>\n",
       "      <td>1</td>\n",
       "      <td>2</td>\n",
       "    </tr>\n",
       "  </tbody>\n",
       "</table>\n",
       "</div>"
      ],
      "text/plain": [
       "   clump_thickness  uniformity_cell_size  uniformity_cell_shape  \\\n",
       "0                5                     1                      1   \n",
       "1                5                     4                      4   \n",
       "2                3                     1                      1   \n",
       "3                6                     8                      8   \n",
       "4                4                     1                      1   \n",
       "\n",
       "   marginal_adhesion  single_epithelial_cell_size bare_nuclei  \\\n",
       "0                  1                            2           1   \n",
       "1                  5                            7          10   \n",
       "2                  1                            2           2   \n",
       "3                  1                            3           4   \n",
       "4                  3                            2           1   \n",
       "\n",
       "   bland_chromatin  normal_nucleoli  mitoses  class  \n",
       "0                3                1        1      2  \n",
       "1                3                2        1      2  \n",
       "2                3                1        1      2  \n",
       "3                3                7        1      2  \n",
       "4                3                1        1      2  "
      ]
     },
     "execution_count": 4,
     "metadata": {},
     "output_type": "execute_result"
    }
   ],
   "source": [
    "## Dropping 'id' column as it is redundant and won't help us in our classification\n",
    "df.drop('Id', axis = 1, inplace = True)\n",
    "df.head()"
   ]
  },
  {
   "cell_type": "code",
   "execution_count": 5,
   "id": "99983c0f",
   "metadata": {},
   "outputs": [
    {
     "data": {
      "text/plain": [
       "1     402\n",
       "10    132\n",
       "2      30\n",
       "5      30\n",
       "3      28\n",
       "8      21\n",
       "4      19\n",
       "?      16\n",
       "9       9\n",
       "7       8\n",
       "6       4\n",
       "Name: bare_nuclei, dtype: int64"
      ]
     },
     "execution_count": 5,
     "metadata": {},
     "output_type": "execute_result"
    }
   ],
   "source": [
    "## As we saw earlier, bare_nuclei is an object type. We have to convert it into integer\n",
    "## but let us check if bare_nuclei is actually an integer type\n",
    "\n",
    "df['bare_nuclei'].value_counts()"
   ]
  },
  {
   "cell_type": "code",
   "execution_count": 6,
   "id": "f423cd46",
   "metadata": {},
   "outputs": [
    {
     "data": {
      "text/plain": [
       "clump_thickness                  int64\n",
       "uniformity_cell_size             int64\n",
       "uniformity_cell_shape            int64\n",
       "marginal_adhesion                int64\n",
       "single_epithelial_cell_size      int64\n",
       "bare_nuclei                    float64\n",
       "bland_chromatin                  int64\n",
       "normal_nucleoli                  int64\n",
       "mitoses                          int64\n",
       "class                            int64\n",
       "dtype: object"
      ]
     },
     "execution_count": 6,
     "metadata": {},
     "output_type": "execute_result"
    }
   ],
   "source": [
    "## Now we can see that it is infact an integer type with sum missing values. \n",
    "## We will take care of missing values after sometime\n",
    "## Converting object to int\n",
    "df['bare_nuclei'] = pd.to_numeric(df['bare_nuclei'], errors = 'coerce')\n",
    "df.dtypes"
   ]
  },
  {
   "cell_type": "markdown",
   "id": "7f8ae5e0",
   "metadata": {},
   "source": [
    " We were successfully able to convert the column"
   ]
  },
  {
   "cell_type": "code",
   "execution_count": 7,
   "id": "d749cdf2",
   "metadata": {},
   "outputs": [
    {
     "name": "stdout",
     "output_type": "stream",
     "text": [
      "1     145\n",
      "5     130\n",
      "3     108\n",
      "4      80\n",
      "10     69\n",
      "2      50\n",
      "8      46\n",
      "6      34\n",
      "7      23\n",
      "9      14\n",
      "Name: clump_thickness, dtype: int64\n",
      "1     384\n",
      "10     67\n",
      "3      52\n",
      "2      45\n",
      "4      40\n",
      "5      30\n",
      "8      29\n",
      "6      27\n",
      "7      19\n",
      "9       6\n",
      "Name: uniformity_cell_size, dtype: int64\n",
      "1     353\n",
      "2      59\n",
      "10     58\n",
      "3      56\n",
      "4      44\n",
      "5      34\n",
      "6      30\n",
      "7      30\n",
      "8      28\n",
      "9       7\n",
      "Name: uniformity_cell_shape, dtype: int64\n",
      "1     407\n",
      "2      58\n",
      "3      58\n",
      "10     55\n",
      "4      33\n",
      "8      25\n",
      "5      23\n",
      "6      22\n",
      "7      13\n",
      "9       5\n",
      "Name: marginal_adhesion, dtype: int64\n",
      "2     386\n",
      "3      72\n",
      "4      48\n",
      "1      47\n",
      "6      41\n",
      "5      39\n",
      "10     31\n",
      "8      21\n",
      "7      12\n",
      "9       2\n",
      "Name: single_epithelial_cell_size, dtype: int64\n",
      "1.0     402\n",
      "10.0    132\n",
      "2.0      30\n",
      "5.0      30\n",
      "3.0      28\n",
      "8.0      21\n",
      "4.0      19\n",
      "9.0       9\n",
      "7.0       8\n",
      "6.0       4\n",
      "Name: bare_nuclei, dtype: int64\n",
      "2     166\n",
      "3     165\n",
      "1     152\n",
      "7      73\n",
      "4      40\n",
      "5      34\n",
      "8      28\n",
      "10     20\n",
      "9      11\n",
      "6      10\n",
      "Name: bland_chromatin, dtype: int64\n",
      "1     443\n",
      "10     61\n",
      "3      44\n",
      "2      36\n",
      "8      24\n",
      "6      22\n",
      "5      19\n",
      "4      18\n",
      "7      16\n",
      "9      16\n",
      "Name: normal_nucleoli, dtype: int64\n",
      "1     579\n",
      "2      35\n",
      "3      33\n",
      "10     14\n",
      "4      12\n",
      "7       9\n",
      "8       8\n",
      "5       6\n",
      "6       3\n",
      "Name: mitoses, dtype: int64\n",
      "2    458\n",
      "4    241\n",
      "Name: class, dtype: int64\n"
     ]
    }
   ],
   "source": [
    "## Now we also have to check if all the columns have discrete values or not as we are doing a classication\n",
    "## and not regression\n",
    "\n",
    "for var in df.columns:\n",
    "    print(df[var].value_counts())"
   ]
  },
  {
   "cell_type": "markdown",
   "id": "44716055",
   "metadata": {},
   "source": [
    "To summarise our data\n",
    "\n",
    "1. All of our columns only contain discrete values\n",
    "2. There are 10 variables, out of which `class` is a dependent variable (y) while others are independent (x)"
   ]
  },
  {
   "cell_type": "code",
   "execution_count": 8,
   "id": "66b307c6",
   "metadata": {},
   "outputs": [
    {
     "data": {
      "text/plain": [
       "clump_thickness                 0\n",
       "uniformity_cell_size            0\n",
       "uniformity_cell_shape           0\n",
       "marginal_adhesion               0\n",
       "single_epithelial_cell_size     0\n",
       "bare_nuclei                    16\n",
       "bland_chromatin                 0\n",
       "normal_nucleoli                 0\n",
       "mitoses                         0\n",
       "class                           0\n",
       "dtype: int64"
      ]
     },
     "execution_count": 8,
     "metadata": {},
     "output_type": "execute_result"
    }
   ],
   "source": [
    "## Checking for NA values\n",
    "\n",
    "df.isna().sum()"
   ]
  },
  {
   "cell_type": "code",
   "execution_count": 9,
   "id": "7a2517b8",
   "metadata": {},
   "outputs": [
    {
     "data": {
      "text/plain": [
       "2    458\n",
       "4    241\n",
       "Name: class, dtype: int64"
      ]
     },
     "execution_count": 9,
     "metadata": {},
     "output_type": "execute_result"
    }
   ],
   "source": [
    "## Lets explore our dependent variable\n",
    "\n",
    "df['class'].value_counts()"
   ]
  },
  {
   "cell_type": "code",
   "execution_count": 10,
   "id": "482e6fad",
   "metadata": {},
   "outputs": [
    {
     "data": {
      "text/plain": [
       "2    0.655222\n",
       "4    0.344778\n",
       "Name: class, dtype: float64"
      ]
     },
     "execution_count": 10,
     "metadata": {},
     "output_type": "execute_result"
    }
   ],
   "source": [
    "## We can see that there are 2 types, 2 stands for benign and 4 stands for malignant\n",
    "## Lets check the ratio or percentage\n",
    "\n",
    "df['class'].value_counts()/np.float(len(df))"
   ]
  },
  {
   "cell_type": "code",
   "execution_count": 11,
   "id": "66886acc",
   "metadata": {},
   "outputs": [
    {
     "data": {
      "text/html": [
       "<div>\n",
       "<style scoped>\n",
       "    .dataframe tbody tr th:only-of-type {\n",
       "        vertical-align: middle;\n",
       "    }\n",
       "\n",
       "    .dataframe tbody tr th {\n",
       "        vertical-align: top;\n",
       "    }\n",
       "\n",
       "    .dataframe thead th {\n",
       "        text-align: right;\n",
       "    }\n",
       "</style>\n",
       "<table border=\"1\" class=\"dataframe\">\n",
       "  <thead>\n",
       "    <tr style=\"text-align: right;\">\n",
       "      <th></th>\n",
       "      <th>clump_thickness</th>\n",
       "      <th>uniformity_cell_size</th>\n",
       "      <th>uniformity_cell_shape</th>\n",
       "      <th>marginal_adhesion</th>\n",
       "      <th>single_epithelial_cell_size</th>\n",
       "      <th>bare_nuclei</th>\n",
       "      <th>bland_chromatin</th>\n",
       "      <th>normal_nucleoli</th>\n",
       "      <th>mitoses</th>\n",
       "      <th>class</th>\n",
       "    </tr>\n",
       "  </thead>\n",
       "  <tbody>\n",
       "    <tr>\n",
       "      <th>count</th>\n",
       "      <td>699.00</td>\n",
       "      <td>699.00</td>\n",
       "      <td>699.00</td>\n",
       "      <td>699.00</td>\n",
       "      <td>699.00</td>\n",
       "      <td>683.00</td>\n",
       "      <td>699.00</td>\n",
       "      <td>699.00</td>\n",
       "      <td>699.00</td>\n",
       "      <td>699.00</td>\n",
       "    </tr>\n",
       "    <tr>\n",
       "      <th>mean</th>\n",
       "      <td>4.42</td>\n",
       "      <td>3.13</td>\n",
       "      <td>3.21</td>\n",
       "      <td>2.81</td>\n",
       "      <td>3.22</td>\n",
       "      <td>3.54</td>\n",
       "      <td>3.44</td>\n",
       "      <td>2.87</td>\n",
       "      <td>1.59</td>\n",
       "      <td>2.69</td>\n",
       "    </tr>\n",
       "    <tr>\n",
       "      <th>std</th>\n",
       "      <td>2.82</td>\n",
       "      <td>3.05</td>\n",
       "      <td>2.97</td>\n",
       "      <td>2.86</td>\n",
       "      <td>2.21</td>\n",
       "      <td>3.64</td>\n",
       "      <td>2.44</td>\n",
       "      <td>3.05</td>\n",
       "      <td>1.72</td>\n",
       "      <td>0.95</td>\n",
       "    </tr>\n",
       "    <tr>\n",
       "      <th>min</th>\n",
       "      <td>1.00</td>\n",
       "      <td>1.00</td>\n",
       "      <td>1.00</td>\n",
       "      <td>1.00</td>\n",
       "      <td>1.00</td>\n",
       "      <td>1.00</td>\n",
       "      <td>1.00</td>\n",
       "      <td>1.00</td>\n",
       "      <td>1.00</td>\n",
       "      <td>2.00</td>\n",
       "    </tr>\n",
       "    <tr>\n",
       "      <th>25%</th>\n",
       "      <td>2.00</td>\n",
       "      <td>1.00</td>\n",
       "      <td>1.00</td>\n",
       "      <td>1.00</td>\n",
       "      <td>2.00</td>\n",
       "      <td>1.00</td>\n",
       "      <td>2.00</td>\n",
       "      <td>1.00</td>\n",
       "      <td>1.00</td>\n",
       "      <td>2.00</td>\n",
       "    </tr>\n",
       "    <tr>\n",
       "      <th>50%</th>\n",
       "      <td>4.00</td>\n",
       "      <td>1.00</td>\n",
       "      <td>1.00</td>\n",
       "      <td>1.00</td>\n",
       "      <td>2.00</td>\n",
       "      <td>1.00</td>\n",
       "      <td>3.00</td>\n",
       "      <td>1.00</td>\n",
       "      <td>1.00</td>\n",
       "      <td>2.00</td>\n",
       "    </tr>\n",
       "    <tr>\n",
       "      <th>75%</th>\n",
       "      <td>6.00</td>\n",
       "      <td>5.00</td>\n",
       "      <td>5.00</td>\n",
       "      <td>4.00</td>\n",
       "      <td>4.00</td>\n",
       "      <td>6.00</td>\n",
       "      <td>5.00</td>\n",
       "      <td>4.00</td>\n",
       "      <td>1.00</td>\n",
       "      <td>4.00</td>\n",
       "    </tr>\n",
       "    <tr>\n",
       "      <th>max</th>\n",
       "      <td>10.00</td>\n",
       "      <td>10.00</td>\n",
       "      <td>10.00</td>\n",
       "      <td>10.00</td>\n",
       "      <td>10.00</td>\n",
       "      <td>10.00</td>\n",
       "      <td>10.00</td>\n",
       "      <td>10.00</td>\n",
       "      <td>10.00</td>\n",
       "      <td>4.00</td>\n",
       "    </tr>\n",
       "  </tbody>\n",
       "</table>\n",
       "</div>"
      ],
      "text/plain": [
       "       clump_thickness  uniformity_cell_size  uniformity_cell_shape  \\\n",
       "count           699.00                699.00                 699.00   \n",
       "mean              4.42                  3.13                   3.21   \n",
       "std               2.82                  3.05                   2.97   \n",
       "min               1.00                  1.00                   1.00   \n",
       "25%               2.00                  1.00                   1.00   \n",
       "50%               4.00                  1.00                   1.00   \n",
       "75%               6.00                  5.00                   5.00   \n",
       "max              10.00                 10.00                  10.00   \n",
       "\n",
       "       marginal_adhesion  single_epithelial_cell_size  bare_nuclei  \\\n",
       "count             699.00                       699.00       683.00   \n",
       "mean                2.81                         3.22         3.54   \n",
       "std                 2.86                         2.21         3.64   \n",
       "min                 1.00                         1.00         1.00   \n",
       "25%                 1.00                         2.00         1.00   \n",
       "50%                 1.00                         2.00         1.00   \n",
       "75%                 4.00                         4.00         6.00   \n",
       "max                10.00                        10.00        10.00   \n",
       "\n",
       "       bland_chromatin  normal_nucleoli  mitoses   class  \n",
       "count           699.00           699.00   699.00  699.00  \n",
       "mean              3.44             2.87     1.59    2.69  \n",
       "std               2.44             3.05     1.72    0.95  \n",
       "min               1.00             1.00     1.00    2.00  \n",
       "25%               2.00             1.00     1.00    2.00  \n",
       "50%               3.00             1.00     1.00    2.00  \n",
       "75%               5.00             4.00     1.00    4.00  \n",
       "max              10.00            10.00    10.00    4.00  "
      ]
     },
     "execution_count": 11,
     "metadata": {},
     "output_type": "execute_result"
    }
   ],
   "source": [
    "# To check outliers \n",
    "(df.describe()).round(2)"
   ]
  },
  {
   "cell_type": "code",
   "execution_count": 12,
   "id": "9831b9df",
   "metadata": {},
   "outputs": [
    {
     "data": {
      "image/png": "[encoded data removed]",
      "text/plain": [
       "<Figure size 1224x720 with 8 Axes>"
      ]
     },
     "metadata": {
      "needs_background": "light"
     },
     "output_type": "display_data"
    }
   ],
   "source": [
    "\n",
    "fig = plt.figure(figsize = [17,10])\n",
    "ax1 = fig.add_subplot(3,3,1)\n",
    "ax1 = sns.boxplot(x = 'clump_thickness', data = df, color = 'blue')\n",
    "\n",
    "ax2 = fig.add_subplot(3,3,2)\n",
    "ax2 = sns.boxplot(x = 'uniformity_cell_size', data = df, color = 'red')\n",
    "\n",
    "ax3 = fig.add_subplot(3,3,3)\n",
    "ax3 = sns.boxplot(x = 'uniformity_cell_shape', data = df, color = 'yellow')\n",
    "\n",
    "ax4 = fig.add_subplot(3,3,4)\n",
    "ax4 = sns.boxplot(x = 'marginal_adhesion', data = df, color = 'green')\n",
    "\n",
    "ax5 = fig.add_subplot(3,3,5)\n",
    "ax5 = sns.boxplot(x = 'single_epithelial_cell_size', data = df, color = 'orange')\n",
    "\n",
    "ax6 = fig.add_subplot(3,3,6)\n",
    "ax6 = sns.boxplot(x = 'bland_chromatin', data = df, color = 'purple')\n",
    "\n",
    "ax7 = fig.add_subplot(3,3,7)\n",
    "ax7 = sns.boxplot(x = 'normal_nucleoli', data = df, color = 'violet')\n",
    "\n",
    "ax8 = fig.add_subplot(3,3,8)\n",
    "ax8 = sns.boxplot(x = 'mitoses', data = df)"
   ]
  },
  {
   "cell_type": "markdown",
   "id": "8bf7b82a",
   "metadata": {},
   "source": [
    "As per the above plots:\n",
    "\n",
    "We have to remove outliers, I will use capping method to remove the outlier.\n",
    "Also, I didn't make one for bare_nuclei column as it has missing values"
   ]
  },
  {
   "cell_type": "markdown",
   "id": "82340664",
   "metadata": {},
   "source": [
    "Filling the na values for bare_nuclei\n",
    "\n",
    "```\n",
    "I assume that the data are missing completely at random (MCAR). There are two methods which can be used to impute missing values. One is mean or median imputation and other one is random sample imputation. When there are outliers in the dataset, we should use median imputation. So, I will use median imputation because median imputation is robust to outliers.\n",
    "```"
   ]
  },
  {
   "cell_type": "code",
   "execution_count": 13,
   "id": "1222f4fe",
   "metadata": {},
   "outputs": [
    {
     "data": {
      "text/plain": [
       "mitoses                        0.423170\n",
       "single_epithelial_cell_size    0.682785\n",
       "marginal_adhesion              0.696800\n",
       "normal_nucleoli                0.712244\n",
       "clump_thickness                0.716001\n",
       "bland_chromatin                0.756616\n",
       "uniformity_cell_size           0.817904\n",
       "uniformity_cell_shape          0.818934\n",
       "bare_nuclei                    0.822696\n",
       "class                          1.000000\n",
       "Name: class, dtype: float64"
      ]
     },
     "execution_count": 13,
     "metadata": {},
     "output_type": "execute_result"
    }
   ],
   "source": [
    "## Get correlation of class with every variable\n",
    "correlation = df.corr()\n",
    "\n",
    "correlation['class'].sort_values(ascending = True)"
   ]
  },
  {
   "cell_type": "markdown",
   "id": "3e222428",
   "metadata": {},
   "source": [
    "### Interpretation\n",
    "1. There is a positive correlation with all the variable with repsect to `class`\n",
    "2. So, we can see that there is a strong positive correlation between `Class` and `Bare_Nuclei`, `Class` and `Uniformity_Cell_Shape`, `Class` and `Uniformity_Cell_Size`."
   ]
  },
  {
   "cell_type": "markdown",
   "id": "934ca1b4",
   "metadata": {},
   "source": [
    "Before we do any pre-processing I will split the data, as I don't want any data leak in the test set"
   ]
  },
  {
   "cell_type": "code",
   "execution_count": 14,
   "id": "da09e38c",
   "metadata": {},
   "outputs": [
    {
     "name": "stdout",
     "output_type": "stream",
     "text": [
      "Checking the dimesions for training set (559, 9)\n",
      "Checking the dimesions for testing set (140, 9)\n"
     ]
    },
    {
     "data": {
      "text/plain": [
       "clump_thickness                  int64\n",
       "uniformity_cell_size             int64\n",
       "uniformity_cell_shape            int64\n",
       "marginal_adhesion                int64\n",
       "single_epithelial_cell_size      int64\n",
       "bare_nuclei                    float64\n",
       "bland_chromatin                  int64\n",
       "normal_nucleoli                  int64\n",
       "mitoses                          int64\n",
       "dtype: object"
      ]
     },
     "execution_count": 14,
     "metadata": {},
     "output_type": "execute_result"
    }
   ],
   "source": [
    "## Declaring the variable\n",
    "\n",
    "X = df.drop(columns = 'class', axis = 1)\n",
    "y = df['class']\n",
    "\n",
    "## Splitting the data\n",
    "\n",
    "from sklearn.model_selection import train_test_split\n",
    "\n",
    "X_train, X_test, y_train, y_test = train_test_split(X, y, test_size = 0.2, random_state = 150)\n",
    "\n",
    "print('Checking the dimesions for training set', X_train.shape)\n",
    "print('Checking the dimesions for testing set', X_test.shape)\n",
    "\n",
    "X_train.dtypes"
   ]
  },
  {
   "cell_type": "code",
   "execution_count": 15,
   "id": "73f1a6b0",
   "metadata": {},
   "outputs": [
    {
     "data": {
      "text/plain": [
       "clump_thickness                 0\n",
       "uniformity_cell_size            0\n",
       "uniformity_cell_shape           0\n",
       "marginal_adhesion               0\n",
       "single_epithelial_cell_size     0\n",
       "bare_nuclei                    11\n",
       "bland_chromatin                 0\n",
       "normal_nucleoli                 0\n",
       "mitoses                         0\n",
       "dtype: int64"
      ]
     },
     "execution_count": 15,
     "metadata": {},
     "output_type": "execute_result"
    }
   ],
   "source": [
    "## Imputing missing values\n",
    "\n",
    "# check missing values in numerical variables in X_train\n",
    "\n",
    "X_train.isnull().sum()"
   ]
  },
  {
   "cell_type": "code",
   "execution_count": 16,
   "id": "77a0f129",
   "metadata": {},
   "outputs": [
    {
     "data": {
      "text/plain": [
       "clump_thickness                0\n",
       "uniformity_cell_size           0\n",
       "uniformity_cell_shape          0\n",
       "marginal_adhesion              0\n",
       "single_epithelial_cell_size    0\n",
       "bare_nuclei                    5\n",
       "bland_chromatin                0\n",
       "normal_nucleoli                0\n",
       "mitoses                        0\n",
       "dtype: int64"
      ]
     },
     "execution_count": 16,
     "metadata": {},
     "output_type": "execute_result"
    }
   ],
   "source": [
    "# check missing values in numerical variables in X_test\n",
    "\n",
    "X_test.isnull().sum()"
   ]
  },
  {
   "cell_type": "code",
   "execution_count": 17,
   "id": "ef4c18ea",
   "metadata": {},
   "outputs": [],
   "source": [
    "## Filling the missing values\n",
    "\n",
    "for df1 in [X_train, X_test]:\n",
    "    for col in X_train.columns:\n",
    "        col_median = X_train[col].median()\n",
    "        df1[col].fillna(col_median, inplace = True)"
   ]
  },
  {
   "cell_type": "code",
   "execution_count": 18,
   "id": "85aad0f2",
   "metadata": {},
   "outputs": [
    {
     "data": {
      "text/plain": [
       "clump_thickness                0\n",
       "uniformity_cell_size           0\n",
       "uniformity_cell_shape          0\n",
       "marginal_adhesion              0\n",
       "single_epithelial_cell_size    0\n",
       "bare_nuclei                    0\n",
       "bland_chromatin                0\n",
       "normal_nucleoli                0\n",
       "mitoses                        0\n",
       "dtype: int64"
      ]
     },
     "execution_count": 18,
     "metadata": {},
     "output_type": "execute_result"
    }
   ],
   "source": [
    "## Checking again for missing values in X_train\n",
    "\n",
    "X_train.isnull().sum()"
   ]
  },
  {
   "cell_type": "code",
   "execution_count": 19,
   "id": "ea3606fd",
   "metadata": {},
   "outputs": [
    {
     "data": {
      "text/plain": [
       "clump_thickness                0\n",
       "uniformity_cell_size           0\n",
       "uniformity_cell_shape          0\n",
       "marginal_adhesion              0\n",
       "single_epithelial_cell_size    0\n",
       "bare_nuclei                    0\n",
       "bland_chromatin                0\n",
       "normal_nucleoli                0\n",
       "mitoses                        0\n",
       "dtype: int64"
      ]
     },
     "execution_count": 19,
     "metadata": {},
     "output_type": "execute_result"
    }
   ],
   "source": [
    "## Checking for X_test\n",
    "\n",
    "X_test.isnull().sum()"
   ]
  },
  {
   "cell_type": "markdown",
   "id": "47269b54",
   "metadata": {},
   "source": [
    "We have succesfully removed all the null values"
   ]
  },
  {
   "cell_type": "code",
   "execution_count": 20,
   "id": "6c0b3bcd",
   "metadata": {},
   "outputs": [
    {
     "data": {
      "image/png": "[encoded data removed]",
      "text/plain": [
       "<Figure size 1224x720 with 9 Axes>"
      ]
     },
     "metadata": {
      "needs_background": "light"
     },
     "output_type": "display_data"
    }
   ],
   "source": [
    "## Capping the outliers - X_train\n",
    "\n",
    "fig = plt.figure(figsize = [17,10])\n",
    "ax1 = fig.add_subplot(3,3,1)\n",
    "ax1 = sns.boxplot(x = 'clump_thickness', data = X_train, color = 'blue')\n",
    "\n",
    "ax2 = fig.add_subplot(3,3,2)\n",
    "ax2 = sns.boxplot(x = 'uniformity_cell_size', data = X_train, color = 'red')\n",
    "\n",
    "ax3 = fig.add_subplot(3,3,3)\n",
    "ax3 = sns.boxplot(x = 'uniformity_cell_shape', data = X_train, color = 'yellow')\n",
    "\n",
    "ax4 = fig.add_subplot(3,3,4)\n",
    "ax4 = sns.boxplot(x = 'marginal_adhesion', data = X_train, color = 'green')\n",
    "\n",
    "ax5 = fig.add_subplot(3,3,5)\n",
    "ax5 = sns.boxplot(x = 'single_epithelial_cell_size', data = X_train, color = 'orange')\n",
    "\n",
    "ax6 = fig.add_subplot(3,3,6)\n",
    "ax6 = sns.boxplot(x = 'bland_chromatin', data = X_train, color = 'purple')\n",
    "\n",
    "ax7 = fig.add_subplot(3,3,7)\n",
    "ax7 = sns.boxplot(x = 'normal_nucleoli', data = X_train, color = 'violet')\n",
    "\n",
    "ax8 = fig.add_subplot(3,3,8)\n",
    "ax8 = sns.boxplot(x = 'mitoses', data = X_train)\n",
    "\n",
    "ax9 = fig.add_subplot(3,3,9)\n",
    "ax9 = sns.boxplot(x = 'bare_nuclei', data = X_train, color = 'white')"
   ]
  },
  {
   "cell_type": "code",
   "execution_count": 36,
   "id": "5a7bb789",
   "metadata": {},
   "outputs": [
    {
     "name": "stdout",
     "output_type": "stream",
     "text": [
      "338    1\n",
      "84     3\n",
      "312    1\n",
      "339    1\n",
      "232    1\n",
      "      ..\n",
      "496    1\n",
      "25     1\n",
      "507    1\n",
      "442    1\n",
      "228    1\n",
      "Name: mitoses, Length: 559, dtype: int64\n",
      "0.2 low percentile:  1.0\n",
      "0.9 high percentile:  3.0\n"
     ]
    }
   ],
   "source": [
    "## Capping\n",
    "\n",
    "lower_percentile = 0.2\n",
    "higher_percentile = 0.9\n",
    "low, high = X_train['mitoses'].quantile([lower_percentile, higher_percentile])\n",
    "X_train[X_train['mitoses'] < low] = low\n",
    "X_train[X_train['mitoses'] > high] = high\n",
    "\n",
    "print(X_train['mitoses'])    \n",
    "\n",
    "print(lower_percentile, 'low percentile: ', low)\n",
    "print(higher_percentile, 'high percentile: ', high)"
   ]
  },
  {
   "cell_type": "code",
   "execution_count": 37,
   "id": "dae300d9",
   "metadata": {},
   "outputs": [
    {
     "data": {
      "text/plain": [
       "<AxesSubplot:>"
      ]
     },
     "execution_count": 37,
     "metadata": {},
     "output_type": "execute_result"
    },
    {
     "data": {
      "image/png": "[encoded data removed]",
      "text/plain": [
       "<Figure size 432x288 with 1 Axes>"
      ]
     },
     "metadata": {
      "needs_background": "light"
     },
     "output_type": "display_data"
    }
   ],
   "source": [
    "(X_train['mitoses']).plot(kind = 'box', vert = False)"
   ]
  },
  {
   "cell_type": "markdown",
   "id": "1794d1be",
   "metadata": {},
   "source": [
    "The capping has helped significantly reduce the outliers as compared to before for mitoses"
   ]
  },
  {
   "cell_type": "code",
   "execution_count": 40,
   "id": "1a621cf1",
   "metadata": {},
   "outputs": [
    {
     "name": "stdout",
     "output_type": "stream",
     "text": [
      "338    1\n",
      "84     3\n",
      "312    5\n",
      "339    3\n",
      "232    3\n",
      "      ..\n",
      "496    1\n",
      "25     5\n",
      "507    1\n",
      "442    1\n",
      "228    1\n",
      "Name: normal_nucleoli, Length: 559, dtype: int64\n",
      "0.2 low percentile:  1.0\n",
      "0.9 high percentile:  5.0\n"
     ]
    }
   ],
   "source": [
    "## Now for other variables - normal_nucleoli\n",
    "\n",
    "low, high = X_train['normal_nucleoli'].quantile([lower_percentile, higher_percentile])\n",
    "X_train[X_train['normal_nucleoli'] < low] = low\n",
    "X_train[X_train['normal_nucleoli'] > high] = high\n",
    "\n",
    "print(X_train['normal_nucleoli'])    \n",
    "\n",
    "print(lower_percentile, 'low percentile: ', low)\n",
    "print(higher_percentile, 'high percentile: ', high)"
   ]
  },
  {
   "cell_type": "code",
   "execution_count": 39,
   "id": "0311b427",
   "metadata": {},
   "outputs": [
    {
     "data": {
      "text/plain": [
       "<AxesSubplot:>"
      ]
     },
     "execution_count": 39,
     "metadata": {},
     "output_type": "execute_result"
    },
    {
     "data": {
      "image/png": "[encoded data removed]",
      "text/plain": [
       "<Figure size 432x288 with 1 Axes>"
      ]
     },
     "metadata": {
      "needs_background": "light"
     },
     "output_type": "display_data"
    }
   ],
   "source": [
    "X_train['normal_nucleoli'].plot(kind = 'box', vert = False)"
   ]
  },
  {
   "cell_type": "markdown",
   "id": "fdae052d",
   "metadata": {},
   "source": [
    "The capping removed all outliers from normal_nucleoli"
   ]
  },
  {
   "cell_type": "code",
   "execution_count": 49,
   "id": "6dadfca6",
   "metadata": {},
   "outputs": [
    {
     "name": "stdout",
     "output_type": "stream",
     "text": [
      "338    2\n",
      "84     3\n",
      "312    3\n",
      "339    4\n",
      "232    4\n",
      "      ..\n",
      "496    1\n",
      "25     5\n",
      "507    1\n",
      "442    1\n",
      "228    3\n",
      "Name: bland_chromatin, Length: 559, dtype: int64\n",
      "0.1 low percentile:  1.0\n",
      "0.9 high percentile:  5.0\n"
     ]
    },
    {
     "data": {
      "text/plain": [
       "<AxesSubplot:>"
      ]
     },
     "execution_count": 49,
     "metadata": {},
     "output_type": "execute_result"
    },
    {
     "data": {
      "image/png": "[encoded data removed]",
      "text/plain": [
       "<Figure size 432x288 with 1 Axes>"
      ]
     },
     "metadata": {
      "needs_background": "light"
     },
     "output_type": "display_data"
    }
   ],
   "source": [
    "## Now for other variables - normal_nucleoli\n",
    "\n",
    "lower_percentile_bc = 0.1\n",
    "higher_percentile_bc = 0.9\n",
    "low_bc, high_bc = X_train['bland_chromatin'].quantile([lower_percentile_bc, higher_percentile_bc])\n",
    "X_train[X_train['bland_chromatin'] < low] = low_bc\n",
    "X_train[X_train['bland_chromatin'] > high] = high_bc\n",
    "\n",
    "print(X_train['bland_chromatin'])    \n",
    "\n",
    "print(lower_percentile_bc, 'low percentile: ', low_bc)\n",
    "print(higher_percentile_bc, 'high percentile: ', high_bc)\n",
    "\n",
    "X_train['bland_chromatin'].plot(kind = 'box', vert = False)"
   ]
  },
  {
   "cell_type": "code",
   "execution_count": 50,
   "id": "d2b43262",
   "metadata": {},
   "outputs": [
    {
     "name": "stdout",
     "output_type": "stream",
     "text": [
      "338    2\n",
      "84     3\n",
      "312    5\n",
      "339    2\n",
      "232    3\n",
      "      ..\n",
      "496    2\n",
      "25     5\n",
      "507    2\n",
      "442    2\n",
      "228    2\n",
      "Name: single_epithelial_cell_size, Length: 559, dtype: int64\n",
      "0.2 low percentile:  2.0\n",
      "0.9 high percentile:  5.0\n"
     ]
    }
   ],
   "source": [
    "## Single epithelial cell\n",
    "\n",
    "low, high = X_train['single_epithelial_cell_size'].quantile([lower_percentile, higher_percentile])\n",
    "X_train[X_train['single_epithelial_cell_size'] < low] = low\n",
    "X_train[X_train['single_epithelial_cell_size'] > high] = high\n",
    "\n",
    "print(X_train['single_epithelial_cell_size'])    \n",
    "\n",
    "print(lower_percentile, 'low percentile: ', low)\n",
    "print(higher_percentile, 'high percentile: ', high)"
   ]
  },
  {
   "cell_type": "code",
   "execution_count": 53,
   "id": "36439cff",
   "metadata": {},
   "outputs": [
    {
     "data": {
      "text/plain": [
       "<AxesSubplot:>"
      ]
     },
     "execution_count": 53,
     "metadata": {},
     "output_type": "execute_result"
    },
    {
     "data": {
      "image/png": "[encoded data removed]",
      "text/plain": [
       "<Figure size 432x288 with 1 Axes>"
      ]
     },
     "metadata": {
      "needs_background": "light"
     },
     "output_type": "display_data"
    }
   ],
   "source": [
    "(X_train['single_epithelial_cell_size']).plot(kind = 'box', vert = False)"
   ]
  },
  {
   "cell_type": "code",
   "execution_count": 54,
   "id": "a4f4367a",
   "metadata": {},
   "outputs": [
    {
     "name": "stdout",
     "output_type": "stream",
     "text": [
      "338    2\n",
      "84     3\n",
      "312    5\n",
      "339    5\n",
      "232    3\n",
      "      ..\n",
      "496    2\n",
      "25     5\n",
      "507    1\n",
      "442    3\n",
      "228    2\n",
      "Name: marginal_adhesion, Length: 559, dtype: int64\n",
      "0.2 low percentile:  1.0\n",
      "0.9 high percentile:  5.0\n"
     ]
    }
   ],
   "source": [
    "## Marginal Adhesion - Capping\n",
    "\n",
    "low, high = X_train['marginal_adhesion'].quantile([lower_percentile, higher_percentile])\n",
    "X_train[X_train['marginal_adhesion'] < low] = low\n",
    "X_train[X_train['marginal_adhesion'] > high] = high\n",
    "\n",
    "print(X_train['marginal_adhesion'])    \n",
    "\n",
    "print(lower_percentile, 'low percentile: ', low)\n",
    "print(higher_percentile, 'high percentile: ', high)"
   ]
  },
  {
   "cell_type": "code",
   "execution_count": 55,
   "id": "332164f1",
   "metadata": {},
   "outputs": [
    {
     "data": {
      "text/plain": [
       "<AxesSubplot:>"
      ]
     },
     "execution_count": 55,
     "metadata": {},
     "output_type": "execute_result"
    },
    {
     "data": {
      "image/png": "[encoded data removed]",
      "text/plain": [
       "<Figure size 432x288 with 1 Axes>"
      ]
     },
     "metadata": {
      "needs_background": "light"
     },
     "output_type": "display_data"
    }
   ],
   "source": [
    "(X_train['marginal_adhesion']).plot(kind = 'box', vert = False)"
   ]
  },
  {
   "cell_type": "code",
   "execution_count": 56,
   "id": "887f626e",
   "metadata": {},
   "outputs": [
    {
     "data": {
      "image/png": "[encoded data removed]",
      "text/plain": [
       "<Figure size 1224x720 with 9 Axes>"
      ]
     },
     "metadata": {
      "needs_background": "light"
     },
     "output_type": "display_data"
    }
   ],
   "source": [
    "## X_test\n",
    "\n",
    "fig = plt.figure(figsize = [17,10])\n",
    "ax1 = fig.add_subplot(3,3,1)\n",
    "ax1 = sns.boxplot(x = 'clump_thickness', data = X_test, color = 'blue')\n",
    "\n",
    "ax2 = fig.add_subplot(3,3,2)\n",
    "ax2 = sns.boxplot(x = 'uniformity_cell_size', data = X_test, color = 'red')\n",
    "\n",
    "ax3 = fig.add_subplot(3,3,3)\n",
    "ax3 = sns.boxplot(x = 'uniformity_cell_shape', data = X_test, color = 'yellow')\n",
    "\n",
    "ax4 = fig.add_subplot(3,3,4)\n",
    "ax4 = sns.boxplot(x = 'marginal_adhesion', data = X_test, color = 'green')\n",
    "\n",
    "ax5 = fig.add_subplot(3,3,5)\n",
    "ax5 = sns.boxplot(x = 'single_epithelial_cell_size', data = X_test, color = 'orange')\n",
    "\n",
    "ax6 = fig.add_subplot(3,3,6)\n",
    "ax6 = sns.boxplot(x = 'bland_chromatin', data = X_test, color = 'purple')\n",
    "\n",
    "ax7 = fig.add_subplot(3,3,7)\n",
    "ax7 = sns.boxplot(x = 'normal_nucleoli', data = X_test, color = 'violet')\n",
    "\n",
    "ax8 = fig.add_subplot(3,3,8)\n",
    "ax8 = sns.boxplot(x = 'mitoses', data = X_test)\n",
    "\n",
    "ax9 = fig.add_subplot(3,3,9)\n",
    "ax9 = sns.boxplot(x = 'bare_nuclei', data = X_test, color = 'white')"
   ]
  },
  {
   "cell_type": "code",
   "execution_count": 57,
   "id": "453af817",
   "metadata": {},
   "outputs": [],
   "source": [
    "## Feature Engineering\n",
    "\n",
    "cols = X_train.columns"
   ]
  },
  {
   "cell_type": "code",
   "execution_count": 60,
   "id": "59043902",
   "metadata": {},
   "outputs": [],
   "source": [
    "from sklearn.preprocessing import StandardScaler\n",
    "scaler = StandardScaler()\n",
    "X_train = scaler.fit_transform(X_train)\n",
    "X_test = scaler.transform(X_test)"
   ]
  },
  {
   "cell_type": "code",
   "execution_count": 61,
   "id": "3b0728a6",
   "metadata": {},
   "outputs": [],
   "source": [
    "X_train = pd.DataFrame(X_train, columns=[cols])"
   ]
  },
  {
   "cell_type": "code",
   "execution_count": 62,
   "id": "83af2cc7",
   "metadata": {},
   "outputs": [],
   "source": [
    "X_test = pd.DataFrame(X_test, columns=[cols])"
   ]
  },
  {
   "cell_type": "code",
   "execution_count": 63,
   "id": "469bd982",
   "metadata": {},
   "outputs": [
    {
     "data": {
      "text/html": [
       "<div>\n",
       "<style scoped>\n",
       "    .dataframe tbody tr th:only-of-type {\n",
       "        vertical-align: middle;\n",
       "    }\n",
       "\n",
       "    .dataframe tbody tr th {\n",
       "        vertical-align: top;\n",
       "    }\n",
       "\n",
       "    .dataframe thead tr th {\n",
       "        text-align: left;\n",
       "    }\n",
       "</style>\n",
       "<table border=\"1\" class=\"dataframe\">\n",
       "  <thead>\n",
       "    <tr>\n",
       "      <th></th>\n",
       "      <th>clump_thickness</th>\n",
       "      <th>uniformity_cell_size</th>\n",
       "      <th>uniformity_cell_shape</th>\n",
       "      <th>marginal_adhesion</th>\n",
       "      <th>single_epithelial_cell_size</th>\n",
       "      <th>bare_nuclei</th>\n",
       "      <th>bland_chromatin</th>\n",
       "      <th>normal_nucleoli</th>\n",
       "      <th>mitoses</th>\n",
       "    </tr>\n",
       "  </thead>\n",
       "  <tbody>\n",
       "    <tr>\n",
       "      <th>0</th>\n",
       "      <td>-0.836565</td>\n",
       "      <td>-0.249073</td>\n",
       "      <td>-0.298077</td>\n",
       "      <td>-0.225183</td>\n",
       "      <td>-0.715061</td>\n",
       "      <td>-0.267448</td>\n",
       "      <td>-0.579960</td>\n",
       "      <td>-0.179547</td>\n",
       "      <td>-0.111079</td>\n",
       "    </tr>\n",
       "    <tr>\n",
       "      <th>1</th>\n",
       "      <td>-0.275173</td>\n",
       "      <td>0.361593</td>\n",
       "      <td>0.305637</td>\n",
       "      <td>0.417049</td>\n",
       "      <td>0.133600</td>\n",
       "      <td>0.237631</td>\n",
       "      <td>0.156853</td>\n",
       "      <td>0.463829</td>\n",
       "      <td>0.529057</td>\n",
       "    </tr>\n",
       "    <tr>\n",
       "      <th>2</th>\n",
       "      <td>0.847612</td>\n",
       "      <td>1.582927</td>\n",
       "      <td>1.513067</td>\n",
       "      <td>1.701512</td>\n",
       "      <td>1.830921</td>\n",
       "      <td>1.247787</td>\n",
       "      <td>1.630480</td>\n",
       "      <td>1.750579</td>\n",
       "      <td>1.809328</td>\n",
       "    </tr>\n",
       "    <tr>\n",
       "      <th>3</th>\n",
       "      <td>2.531788</td>\n",
       "      <td>1.582927</td>\n",
       "      <td>1.513067</td>\n",
       "      <td>1.701512</td>\n",
       "      <td>-0.715061</td>\n",
       "      <td>3.773178</td>\n",
       "      <td>0.893666</td>\n",
       "      <td>0.463829</td>\n",
       "      <td>-0.751215</td>\n",
       "    </tr>\n",
       "    <tr>\n",
       "      <th>4</th>\n",
       "      <td>2.531788</td>\n",
       "      <td>0.972260</td>\n",
       "      <td>2.116781</td>\n",
       "      <td>0.417049</td>\n",
       "      <td>0.133600</td>\n",
       "      <td>-0.772526</td>\n",
       "      <td>0.893666</td>\n",
       "      <td>0.463829</td>\n",
       "      <td>-0.751215</td>\n",
       "    </tr>\n",
       "  </tbody>\n",
       "</table>\n",
       "</div>"
      ],
      "text/plain": [
       "  clump_thickness uniformity_cell_size uniformity_cell_shape  \\\n",
       "0       -0.836565            -0.249073             -0.298077   \n",
       "1       -0.275173             0.361593              0.305637   \n",
       "2        0.847612             1.582927              1.513067   \n",
       "3        2.531788             1.582927              1.513067   \n",
       "4        2.531788             0.972260              2.116781   \n",
       "\n",
       "  marginal_adhesion single_epithelial_cell_size bare_nuclei bland_chromatin  \\\n",
       "0         -0.225183                   -0.715061   -0.267448       -0.579960   \n",
       "1          0.417049                    0.133600    0.237631        0.156853   \n",
       "2          1.701512                    1.830921    1.247787        1.630480   \n",
       "3          1.701512                   -0.715061    3.773178        0.893666   \n",
       "4          0.417049                    0.133600   -0.772526        0.893666   \n",
       "\n",
       "  normal_nucleoli   mitoses  \n",
       "0       -0.179547 -0.111079  \n",
       "1        0.463829  0.529057  \n",
       "2        1.750579  1.809328  \n",
       "3        0.463829 -0.751215  \n",
       "4        0.463829 -0.751215  "
      ]
     },
     "execution_count": 63,
     "metadata": {},
     "output_type": "execute_result"
    }
   ],
   "source": [
    "X_train.head()"
   ]
  },
  {
   "cell_type": "code",
   "execution_count": 64,
   "id": "2becd3c9",
   "metadata": {},
   "outputs": [
    {
     "data": {
      "text/plain": [
       "KNeighborsClassifier(n_neighbors=3)"
      ]
     },
     "execution_count": 64,
     "metadata": {},
     "output_type": "execute_result"
    }
   ],
   "source": [
    "from sklearn.neighbors import KNeighborsClassifier\n",
    "\n",
    "knn = KNeighborsClassifier(n_neighbors = 3)\n",
    "\n",
    "knn.fit(X_train, y_train)"
   ]
  },
  {
   "cell_type": "code",
   "execution_count": 66,
   "id": "d11e7030",
   "metadata": {},
   "outputs": [
    {
     "data": {
      "text/plain": [
       "array([2, 4, 2, 2, 2, 4, 4, 2, 2, 2, 4, 2, 2, 2, 2, 2, 2, 2, 4, 4, 2, 2,\n",
       "       2, 2, 4, 2, 2, 2, 2, 2, 2, 2, 4, 4, 4, 4, 2, 2, 2, 2, 2, 4, 4, 4,\n",
       "       2, 4, 4, 2, 2, 2, 2, 2, 2, 2, 2, 2, 2, 2, 2, 2, 4, 2, 2, 4, 4, 2,\n",
       "       4, 4, 2, 2, 2, 2, 4, 4, 4, 2, 2, 4, 2, 2, 4, 4, 4, 4, 2, 4, 2, 4,\n",
       "       2, 2, 2, 2, 2, 2, 2, 2, 4, 4, 4, 2, 2, 4, 4, 2, 2, 2, 4, 2, 2, 2,\n",
       "       2, 2, 2, 4, 4, 2, 2, 4, 2, 4, 4, 2, 2, 4, 2, 2, 4, 2, 2, 2, 2, 4,\n",
       "       4, 4, 2, 2, 2, 4, 2, 2], dtype=int64)"
      ]
     },
     "execution_count": 66,
     "metadata": {},
     "output_type": "execute_result"
    }
   ],
   "source": [
    "y_pred = knn.predict(X_test)\n",
    "y_pred"
   ]
  },
  {
   "cell_type": "markdown",
   "id": "04e932c9",
   "metadata": {},
   "source": [
    "#### predict_proba method\n",
    "predict_proba method gives the probabilities for the target variable(2 and 4) in this case, in array form.\n",
    "\n",
    "2 is for probability of benign cancer and 4 is for probability of malignant cancer."
   ]
  },
  {
   "cell_type": "code",
   "execution_count": 68,
   "id": "2bfe1bc2",
   "metadata": {},
   "outputs": [
    {
     "data": {
      "text/plain": [
       "array([1.        , 0.33333333, 1.        , 1.        , 1.        ,\n",
       "       0.33333333, 0.        , 1.        , 1.        , 1.        ,\n",
       "       0.        , 1.        , 1.        , 1.        , 1.        ,\n",
       "       1.        , 1.        , 1.        , 0.        , 0.        ,\n",
       "       1.        , 1.        , 1.        , 1.        , 0.        ,\n",
       "       1.        , 1.        , 1.        , 1.        , 1.        ,\n",
       "       1.        , 1.        , 0.        , 0.33333333, 0.33333333,\n",
       "       0.33333333, 1.        , 1.        , 1.        , 1.        ,\n",
       "       1.        , 0.        , 0.33333333, 0.        , 1.        ,\n",
       "       0.        , 0.        , 1.        , 1.        , 1.        ,\n",
       "       1.        , 1.        , 1.        , 1.        , 1.        ,\n",
       "       1.        , 1.        , 1.        , 1.        , 1.        ,\n",
       "       0.33333333, 1.        , 1.        , 0.33333333, 0.33333333,\n",
       "       1.        , 0.        , 0.        , 1.        , 1.        ,\n",
       "       1.        , 1.        , 0.        , 0.        , 0.33333333,\n",
       "       1.        , 1.        , 0.33333333, 0.66666667, 1.        ,\n",
       "       0.        , 0.        , 0.33333333, 0.33333333, 1.        ,\n",
       "       0.        , 1.        , 0.        , 1.        , 1.        ,\n",
       "       1.        , 1.        , 0.66666667, 1.        , 1.        ,\n",
       "       1.        , 0.33333333, 0.        , 0.        , 1.        ,\n",
       "       1.        , 0.33333333, 0.        , 1.        , 1.        ,\n",
       "       1.        , 0.        , 1.        , 1.        , 1.        ,\n",
       "       1.        , 1.        , 1.        , 0.        , 0.        ,\n",
       "       1.        , 1.        , 0.        , 1.        , 0.        ,\n",
       "       0.33333333, 1.        , 1.        , 0.33333333, 1.        ,\n",
       "       1.        , 0.33333333, 1.        , 1.        , 1.        ,\n",
       "       1.        , 0.33333333, 0.        , 0.        , 1.        ,\n",
       "       1.        , 0.66666667, 0.33333333, 1.        , 1.        ])"
      ]
     },
     "execution_count": 68,
     "metadata": {},
     "output_type": "execute_result"
    }
   ],
   "source": [
    "## probability of getting output as 2 - benign cancer\n",
    "\n",
    "knn.predict_proba(X_test)[:,0]"
   ]
  },
  {
   "cell_type": "code",
   "execution_count": 69,
   "id": "eda6afdc",
   "metadata": {},
   "outputs": [
    {
     "data": {
      "text/plain": [
       "array([0.        , 0.66666667, 0.        , 0.        , 0.        ,\n",
       "       0.66666667, 1.        , 0.        , 0.        , 0.        ,\n",
       "       1.        , 0.        , 0.        , 0.        , 0.        ,\n",
       "       0.        , 0.        , 0.        , 1.        , 1.        ,\n",
       "       0.        , 0.        , 0.        , 0.        , 1.        ,\n",
       "       0.        , 0.        , 0.        , 0.        , 0.        ,\n",
       "       0.        , 0.        , 1.        , 0.66666667, 0.66666667,\n",
       "       0.66666667, 0.        , 0.        , 0.        , 0.        ,\n",
       "       0.        , 1.        , 0.66666667, 1.        , 0.        ,\n",
       "       1.        , 1.        , 0.        , 0.        , 0.        ,\n",
       "       0.        , 0.        , 0.        , 0.        , 0.        ,\n",
       "       0.        , 0.        , 0.        , 0.        , 0.        ,\n",
       "       0.66666667, 0.        , 0.        , 0.66666667, 0.66666667,\n",
       "       0.        , 1.        , 1.        , 0.        , 0.        ,\n",
       "       0.        , 0.        , 1.        , 1.        , 0.66666667,\n",
       "       0.        , 0.        , 0.66666667, 0.33333333, 0.        ,\n",
       "       1.        , 1.        , 0.66666667, 0.66666667, 0.        ,\n",
       "       1.        , 0.        , 1.        , 0.        , 0.        ,\n",
       "       0.        , 0.        , 0.33333333, 0.        , 0.        ,\n",
       "       0.        , 0.66666667, 1.        , 1.        , 0.        ,\n",
       "       0.        , 0.66666667, 1.        , 0.        , 0.        ,\n",
       "       0.        , 1.        , 0.        , 0.        , 0.        ,\n",
       "       0.        , 0.        , 0.        , 1.        , 1.        ,\n",
       "       0.        , 0.        , 1.        , 0.        , 1.        ,\n",
       "       0.66666667, 0.        , 0.        , 0.66666667, 0.        ,\n",
       "       0.        , 0.66666667, 0.        , 0.        , 0.        ,\n",
       "       0.        , 0.66666667, 1.        , 1.        , 0.        ,\n",
       "       0.        , 0.33333333, 0.66666667, 0.        , 0.        ])"
      ]
     },
     "execution_count": 69,
     "metadata": {},
     "output_type": "execute_result"
    }
   ],
   "source": [
    "# probability of getting output as 4 - malignant cancer\n",
    "\n",
    "knn.predict_proba(X_test)[:,1]"
   ]
  },
  {
   "cell_type": "code",
   "execution_count": 70,
   "id": "65a52efd",
   "metadata": {},
   "outputs": [
    {
     "name": "stdout",
     "output_type": "stream",
     "text": [
      "model accuracy score: 0.9571\n"
     ]
    }
   ],
   "source": [
    "## Checking accuracy \n",
    "\n",
    "from sklearn.metrics import accuracy_score\n",
    "\n",
    "print('model accuracy score: {0:0.4f}'.format(accuracy_score(y_test, y_pred)))"
   ]
  },
  {
   "cell_type": "markdown",
   "id": "df1196a5",
   "metadata": {},
   "source": [
    "### Compare the train-set and test-set accuracy\n",
    "Now, I will compare the train-set and test-set accuracy to check for overfitting."
   ]
  },
  {
   "cell_type": "code",
   "execution_count": 71,
   "id": "18227a1e",
   "metadata": {},
   "outputs": [],
   "source": [
    "y_pred_train = knn.predict(X_train)"
   ]
  },
  {
   "cell_type": "code",
   "execution_count": 72,
   "id": "920cbd1d",
   "metadata": {},
   "outputs": [
    {
     "name": "stdout",
     "output_type": "stream",
     "text": [
      "Training-set accuracy score: 0.9499\n"
     ]
    }
   ],
   "source": [
    "print('Training-set accuracy score: {0:0.4f}'. format(accuracy_score(y_train, y_pred_train)))"
   ]
  },
  {
   "cell_type": "code",
   "execution_count": 73,
   "id": "357ada1c",
   "metadata": {},
   "outputs": [
    {
     "name": "stdout",
     "output_type": "stream",
     "text": [
      "Training set score: 0.9499\n",
      "Test set score: 0.9571\n"
     ]
    }
   ],
   "source": [
    "## Check for overfitting and underfitting\n",
    "\n",
    "print('Training set score: {:.4f}'.format(knn.score(X_train, y_train)))\n",
    "\n",
    "print('Test set score: {:.4f}'.format(knn.score(X_test, y_test)))"
   ]
  },
  {
   "cell_type": "markdown",
   "id": "14b5d1d5",
   "metadata": {},
   "source": [
    "The training-set accuracy score is 0.9821 while the test-set accuracy to be 0.9714. These two values are quite comparable. So, there is no question of overfitting."
   ]
  },
  {
   "cell_type": "markdown",
   "id": "ac5c199f",
   "metadata": {},
   "source": [
    "## Compare model accuracy with null accuracy\n",
    "So, the model accuracy is 0.9714. But, we cannot say that our model is very good based on the above accuracy. We must compare it with the null accuracy. Null accuracy is the accuracy that could be achieved by always predicting the most frequent class.\n",
    "\n",
    "So, we should first check the class distribution in the test set."
   ]
  },
  {
   "cell_type": "code",
   "execution_count": 74,
   "id": "09fbe4c7",
   "metadata": {},
   "outputs": [
    {
     "data": {
      "text/plain": [
       "2    92\n",
       "4    48\n",
       "Name: class, dtype: int64"
      ]
     },
     "execution_count": 74,
     "metadata": {},
     "output_type": "execute_result"
    }
   ],
   "source": [
    "y_test.value_counts()"
   ]
  },
  {
   "cell_type": "markdown",
   "id": "6f10bc0f",
   "metadata": {},
   "source": [
    "We can see that the occurences of most frequent class is 92. So, we can calculate null accuracy by dividing 85 by total number of occurences."
   ]
  },
  {
   "cell_type": "code",
   "execution_count": 75,
   "id": "5040e402",
   "metadata": {},
   "outputs": [
    {
     "name": "stdout",
     "output_type": "stream",
     "text": [
      "Null accuracy score: 0.6571\n"
     ]
    }
   ],
   "source": [
    "null_accuracy = (92/(48+92))\n",
    "\n",
    "print('Null accuracy score: {0:0.4f}'. format(null_accuracy))"
   ]
  },
  {
   "cell_type": "markdown",
   "id": "3dc14f2c",
   "metadata": {},
   "source": [
    "We can see that our model accuracy score is 0.9714 but null accuracy score is 0.6571. So, we can conclude that our K Nearest Neighbors model is doing a very good job in predicting the class labels."
   ]
  },
  {
   "cell_type": "markdown",
   "id": "ba9578c0",
   "metadata": {},
   "source": [
    "### Rebuild kNN Classification model using different values of k "
   ]
  },
  {
   "cell_type": "code",
   "execution_count": 76,
   "id": "468b4152",
   "metadata": {},
   "outputs": [
    {
     "name": "stdout",
     "output_type": "stream",
     "text": [
      "Model accuracy score with k=5 : 0.9786\n"
     ]
    }
   ],
   "source": [
    "knn_5 = KNeighborsClassifier(n_neighbors = 5)\n",
    "\n",
    "knn_5.fit(X_train, y_train)\n",
    "\n",
    "y_pred_5 = knn_5.predict(X_test)\n",
    "\n",
    "print('Model accuracy score with k=5 : {0:0.4f}'. format(accuracy_score(y_test, y_pred_5)))"
   ]
  },
  {
   "cell_type": "code",
   "execution_count": 77,
   "id": "38c45b28",
   "metadata": {},
   "outputs": [
    {
     "name": "stdout",
     "output_type": "stream",
     "text": [
      "Model accuracy score with k=6 : 0.9643\n"
     ]
    }
   ],
   "source": [
    "knn_6 = KNeighborsClassifier(n_neighbors = 6)\n",
    "\n",
    "knn_6.fit(X_train, y_train)\n",
    "\n",
    "y_pred_6 = knn_6.predict(X_test)\n",
    "\n",
    "print('Model accuracy score with k=6 : {0:0.4f}'. format(accuracy_score(y_test, y_pred_6)))"
   ]
  },
  {
   "cell_type": "code",
   "execution_count": 78,
   "id": "02032fcb",
   "metadata": {},
   "outputs": [
    {
     "name": "stdout",
     "output_type": "stream",
     "text": [
      "Model accuracy score with k=7 : 0.9714\n"
     ]
    }
   ],
   "source": [
    "knn_7 = KNeighborsClassifier(n_neighbors = 7)\n",
    "\n",
    "knn_7.fit(X_train, y_train)\n",
    "\n",
    "y_pred_7 = knn_7.predict(X_test)\n",
    "\n",
    "print('Model accuracy score with k=7 : {0:0.4f}'. format(accuracy_score(y_test, y_pred_7)))"
   ]
  },
  {
   "cell_type": "code",
   "execution_count": 79,
   "id": "8d2f224a",
   "metadata": {},
   "outputs": [
    {
     "name": "stdout",
     "output_type": "stream",
     "text": [
      "Model accuracy score with k=8 : 0.9714\n"
     ]
    }
   ],
   "source": [
    "knn_8 = KNeighborsClassifier(n_neighbors = 8)\n",
    "\n",
    "knn_8.fit(X_train, y_train)\n",
    "\n",
    "y_pred_8 = knn_8.predict(X_test)\n",
    "\n",
    "print('Model accuracy score with k=8 : {0:0.4f}'. format(accuracy_score(y_test, y_pred_8)))"
   ]
  },
  {
   "cell_type": "code",
   "execution_count": 80,
   "id": "2d5d5204",
   "metadata": {},
   "outputs": [
    {
     "name": "stdout",
     "output_type": "stream",
     "text": [
      "Model accuracy score with k=9 : 0.9786\n"
     ]
    }
   ],
   "source": [
    "knn_9 = KNeighborsClassifier(n_neighbors = 9)\n",
    "\n",
    "knn_9.fit(X_train, y_train)\n",
    "\n",
    "y_pred_9 = knn_9.predict(X_test)\n",
    "\n",
    "print('Model accuracy score with k=9 : {0:0.4f}'. format(accuracy_score(y_test, y_pred_9)))"
   ]
  },
  {
   "cell_type": "markdown",
   "id": "701938c8",
   "metadata": {},
   "source": [
    "### Interpretation\n",
    "Our original model accuracy score with k=3 is 0.9571. Now, we can see that we get increased accuracy score of 0.9786 with k=5. But, if we increase the value of k further, this would result in enhanced accuracy.\n",
    "\n",
    "With k=6,7,8 we get accuracy score of 0.9643 & 0.9714, respectively. So, the performance has not improved much.\n",
    "\n",
    "If we increase k to 9, then accuracy increases again to 0.9786.\n",
    "\n",
    "Now, based on the above analysis we can conclude that our classification model accuracy is very good. Our model is doing a very good job in terms of predicting the class labels.\n",
    "\n",
    "But, it does not give the underlying distribution of values. Also, it does not tell anything about the type of errors our classifer is making.\n",
    "\n",
    "We have another tool called Confusion matrix that comes to our rescue."
   ]
  },
  {
   "cell_type": "code",
   "execution_count": 81,
   "id": "aa95b807",
   "metadata": {},
   "outputs": [
    {
     "name": "stdout",
     "output_type": "stream",
     "text": [
      "Confusion matrix\n",
      "\n",
      " [[89  3]\n",
      " [ 3 45]]\n",
      "\n",
      "True Positives(TP) =  89\n",
      "\n",
      "True Negatives(TN) =  45\n",
      "\n",
      "False Positives(FP) =  3\n",
      "\n",
      "False Negatives(FN) =  3\n"
     ]
    }
   ],
   "source": [
    "## Print the Confusion Matrix with k =3 and slice it into four pieces\n",
    "\n",
    "\n",
    "from sklearn.metrics import confusion_matrix\n",
    "\n",
    "cm = confusion_matrix(y_test, y_pred)\n",
    "\n",
    "print('Confusion matrix\\n\\n', cm)\n",
    "\n",
    "print('\\nTrue Positives(TP) = ', cm[0,0])\n",
    "\n",
    "print('\\nTrue Negatives(TN) = ', cm[1,1])\n",
    "\n",
    "print('\\nFalse Positives(FP) = ', cm[0,1])\n",
    "\n",
    "print('\\nFalse Negatives(FN) = ', cm[1,0])"
   ]
  },
  {
   "cell_type": "code",
   "execution_count": 82,
   "id": "0043847d",
   "metadata": {},
   "outputs": [
    {
     "name": "stdout",
     "output_type": "stream",
     "text": [
      "Confusion matrix\n",
      "\n",
      " [[90  2]\n",
      " [ 1 47]]\n",
      "\n",
      "True Positives(TP) =  90\n",
      "\n",
      "True Negatives(TN) =  47\n",
      "\n",
      "False Positives(FP) =  2\n",
      "\n",
      "False Negatives(FN) =  1\n"
     ]
    }
   ],
   "source": [
    "## Print the Confusion Matrix with k = 5 and slice it into four pieces\n",
    "\n",
    "cm_5 = confusion_matrix(y_test, y_pred_5)\n",
    "\n",
    "print('Confusion matrix\\n\\n', cm_5)\n",
    "\n",
    "print('\\nTrue Positives(TP) = ', cm_5[0,0])\n",
    "\n",
    "print('\\nTrue Negatives(TN) = ', cm_5[1,1])\n",
    "\n",
    "print('\\nFalse Positives(FP) = ', cm_5[0,1])\n",
    "\n",
    "print('\\nFalse Negatives(FN) = ', cm_5[1,0])"
   ]
  },
  {
   "cell_type": "markdown",
   "id": "f03df356",
   "metadata": {},
   "source": [
    "#### Comment\n",
    "So, kNN Classification model with k=5 shows more accurate predictions and less number of errors than k=3 model. Hence, we got performance improvement with k=5."
   ]
  },
  {
   "cell_type": "code",
   "execution_count": 83,
   "id": "6307493c",
   "metadata": {},
   "outputs": [
    {
     "name": "stdout",
     "output_type": "stream",
     "text": [
      "Confusion matrix\n",
      "\n",
      " [[90  2]\n",
      " [ 3 45]]\n",
      "\n",
      "True Positives(TP) =  90\n",
      "\n",
      "True Negatives(TN) =  45\n",
      "\n",
      "False Positives(FP) =  2\n",
      "\n",
      "False Negatives(FN) =  3\n"
     ]
    }
   ],
   "source": [
    "## lets try with k = 6, to check how our performance might have been affected with a lower score\n",
    "\n",
    "cm_6 = confusion_matrix(y_test, y_pred_6)\n",
    "\n",
    "print('Confusion matrix\\n\\n', cm_6)\n",
    "\n",
    "print('\\nTrue Positives(TP) = ', cm_6[0,0])\n",
    "\n",
    "print('\\nTrue Negatives(TN) = ', cm_6[1,1])\n",
    "\n",
    "print('\\nFalse Positives(FP) = ', cm_6[0,1])\n",
    "\n",
    "print('\\nFalse Negatives(FN) = ', cm_6[1,0])"
   ]
  },
  {
   "cell_type": "markdown",
   "id": "e6bbe2d1",
   "metadata": {},
   "source": [
    "Here false positive and false negatives increased, so clearly k = 5 is better"
   ]
  },
  {
   "cell_type": "code",
   "execution_count": 85,
   "id": "9540d41f",
   "metadata": {},
   "outputs": [
    {
     "name": "stdout",
     "output_type": "stream",
     "text": [
      "Confusion matrix\n",
      "\n",
      " [[90  2]\n",
      " [ 2 46]]\n",
      "\n",
      "True Positives(TP) =  90\n",
      "\n",
      "True Negatives(TN) =  46\n",
      "\n",
      "False Positives(FP) =  2\n",
      "\n",
      "False Negatives(FN) =  2\n"
     ]
    }
   ],
   "source": [
    "## lets check with k = 7\n",
    "cm_7 = confusion_matrix(y_test, y_pred_7)\n",
    "\n",
    "print('Confusion matrix\\n\\n', cm_7)\n",
    "\n",
    "print('\\nTrue Positives(TP) = ', cm_7[0,0])\n",
    "\n",
    "print('\\nTrue Negatives(TN) = ', cm_7[1,1])\n",
    "\n",
    "print('\\nFalse Positives(FP) = ', cm_7[0,1])\n",
    "\n",
    "print('\\nFalse Negatives(FN) = ', cm_7[1,0])"
   ]
  },
  {
   "cell_type": "markdown",
   "id": "507bf82c",
   "metadata": {},
   "source": [
    "k = 7 is slight better than k = 6, but slight worse than k = 5, so ultimately lets go with k = 5"
   ]
  },
  {
   "cell_type": "code",
   "execution_count": 86,
   "id": "a330eb03",
   "metadata": {},
   "outputs": [
    {
     "data": {
      "text/plain": [
       "<AxesSubplot:>"
      ]
     },
     "execution_count": 86,
     "metadata": {},
     "output_type": "execute_result"
    },
    {
     "data": {
      "image/png": "[encoded data removed]",
      "text/plain": [
       "<Figure size 432x288 with 2 Axes>"
      ]
     },
     "metadata": {
      "needs_background": "light"
     },
     "output_type": "display_data"
    }
   ],
   "source": [
    "# visualize confusion matrix with seaborn heatmap\n",
    "\n",
    "plt.figure(figsize=(6,4))\n",
    "\n",
    "cm_matrix = pd.DataFrame(data=cm_5, columns=['Actual Positive:1', 'Actual Negative:0'], \n",
    "                                 index=['Predict Positive:1', 'Predict Negative:0'])\n",
    "\n",
    "sns.heatmap(cm_matrix, annot=True, fmt='d', cmap='YlGnBu')"
   ]
  },
  {
   "cell_type": "markdown",
   "id": "dd45982a",
   "metadata": {},
   "source": [
    "### Classification Report\n",
    "Classification report is another way to evaluate the classification model performance. It displays the precision, recall, f1 and support scores for the model. I have described these terms in later.\n",
    "\n",
    "We can print a classification report as follows:-"
   ]
  },
  {
   "cell_type": "code",
   "execution_count": 88,
   "id": "07578aa7",
   "metadata": {},
   "outputs": [
    {
     "name": "stdout",
     "output_type": "stream",
     "text": [
      "              precision    recall  f1-score   support\n",
      "\n",
      "           2       0.99      0.98      0.98        92\n",
      "           4       0.96      0.98      0.97        48\n",
      "\n",
      "    accuracy                           0.98       140\n",
      "   macro avg       0.97      0.98      0.98       140\n",
      "weighted avg       0.98      0.98      0.98       140\n",
      "\n"
     ]
    }
   ],
   "source": [
    "from sklearn.metrics import classification_report\n",
    "\n",
    "print(classification_report(y_test, y_pred_5))"
   ]
  },
  {
   "cell_type": "code",
   "execution_count": 89,
   "id": "6126445b",
   "metadata": {},
   "outputs": [],
   "source": [
    "## Classification accuracy\n",
    "\n",
    "TP = cm_5[0,0]\n",
    "TN = cm_5[1,1]\n",
    "FP = cm_5[0,1]\n",
    "FN = cm_5[1,0]"
   ]
  },
  {
   "cell_type": "code",
   "execution_count": 90,
   "id": "35b25d03",
   "metadata": {},
   "outputs": [
    {
     "name": "stdout",
     "output_type": "stream",
     "text": [
      "Classification accuracy : 0.9786\n"
     ]
    }
   ],
   "source": [
    "classification_accuracy = (TP + TN) / float(TP + TN + FP + FN)\n",
    "\n",
    "print('Classification accuracy : {0:0.4f}'.format(classification_accuracy))"
   ]
  },
  {
   "cell_type": "code",
   "execution_count": 91,
   "id": "4d8d17e4",
   "metadata": {},
   "outputs": [
    {
     "name": "stdout",
     "output_type": "stream",
     "text": [
      "Classification error : 0.0214\n"
     ]
    }
   ],
   "source": [
    "# print classification error\n",
    "\n",
    "classification_error = (FP + FN) / float(TP + TN + FP + FN)\n",
    "\n",
    "print('Classification error : {0:0.4f}'.format(classification_error))"
   ]
  },
  {
   "cell_type": "markdown",
   "id": "7a555f82",
   "metadata": {},
   "source": [
    "### Precision\n",
    "Precision can be defined as the percentage of correctly predicted positive outcomes out of all the predicted positive outcomes. It can be given as the ratio of true positives (TP) to the sum of true and false positives (TP + FP).\n",
    "\n",
    "So, Precision identifies the proportion of correctly predicted positive outcome. It is more concerned with the positive class than the negative class.\n",
    "\n",
    "Mathematically, precision can be defined as the ratio of TP to (TP + FP)."
   ]
  },
  {
   "cell_type": "code",
   "execution_count": 92,
   "id": "dea894c2",
   "metadata": {},
   "outputs": [
    {
     "name": "stdout",
     "output_type": "stream",
     "text": [
      "Precision : 0.9783\n"
     ]
    }
   ],
   "source": [
    "# print precision score\n",
    "\n",
    "precision = TP / float(TP + FP)\n",
    "\n",
    "\n",
    "print('Precision : {0:0.4f}'.format(precision))"
   ]
  },
  {
   "cell_type": "markdown",
   "id": "95aebb4f",
   "metadata": {},
   "source": [
    "### Recall\n",
    "Recall can be defined as the percentage of correctly predicted positive outcomes out of all the actual positive outcomes. It can be given as the ratio of true positives (TP) to the sum of true positives and false negatives (TP + FN). Recall is also called Sensitivity.\n",
    "\n",
    "Recall identifies the proportion of correctly predicted actual positives.\n",
    "\n",
    "Mathematically, recall can be given as the ratio of TP to (TP + FN)."
   ]
  },
  {
   "cell_type": "code",
   "execution_count": 94,
   "id": "2b3a8cfe",
   "metadata": {},
   "outputs": [
    {
     "name": "stdout",
     "output_type": "stream",
     "text": [
      "Recall or Sensitivity : 0.9890\n"
     ]
    }
   ],
   "source": [
    "recall = TP/float(TP + FN)\n",
    "\n",
    "print('Recall or Sensitivity : {0:0.4f}'.format(recall))"
   ]
  },
  {
   "cell_type": "code",
   "execution_count": 95,
   "id": "19cec5e9",
   "metadata": {},
   "outputs": [
    {
     "name": "stdout",
     "output_type": "stream",
     "text": [
      "True Positive Rate : 0.9890\n"
     ]
    }
   ],
   "source": [
    "true_positive_rate = TP / float(TP + FN)\n",
    "\n",
    "\n",
    "print('True Positive Rate : {0:0.4f}'.format(true_positive_rate))"
   ]
  },
  {
   "cell_type": "code",
   "execution_count": 96,
   "id": "4ef7b15f",
   "metadata": {},
   "outputs": [
    {
     "name": "stdout",
     "output_type": "stream",
     "text": [
      "False Positive Rate : 0.0408\n"
     ]
    }
   ],
   "source": [
    "false_positive_rate = FP / float(FP + TN)\n",
    "\n",
    "\n",
    "print('False Positive Rate : {0:0.4f}'.format(false_positive_rate))"
   ]
  },
  {
   "cell_type": "code",
   "execution_count": 97,
   "id": "1fd0d64c",
   "metadata": {},
   "outputs": [
    {
     "name": "stdout",
     "output_type": "stream",
     "text": [
      "Specificity : 0.9592\n"
     ]
    }
   ],
   "source": [
    "specificity = TN / (TN + FP)\n",
    "\n",
    "print('Specificity : {0:0.4f}'.format(specificity))"
   ]
  },
  {
   "cell_type": "markdown",
   "id": "a8e0f275",
   "metadata": {},
   "source": [
    "#### Support\n",
    "Support is the actual number of occurrences of the class in our dataset."
   ]
  },
  {
   "cell_type": "code",
   "execution_count": 98,
   "id": "545be548",
   "metadata": {},
   "outputs": [
    {
     "data": {
      "text/plain": [
       "array([[1.        , 0.        ],\n",
       "       [0.33333333, 0.66666667],\n",
       "       [1.        , 0.        ],\n",
       "       [1.        , 0.        ],\n",
       "       [1.        , 0.        ],\n",
       "       [0.33333333, 0.66666667],\n",
       "       [0.        , 1.        ],\n",
       "       [1.        , 0.        ],\n",
       "       [1.        , 0.        ],\n",
       "       [1.        , 0.        ]])"
      ]
     },
     "execution_count": 98,
     "metadata": {},
     "output_type": "execute_result"
    }
   ],
   "source": [
    "y_pred_prob = knn.predict_proba(X_test)[0:10]\n",
    "\n",
    "y_pred_prob"
   ]
  },
  {
   "cell_type": "code",
   "execution_count": 99,
   "id": "264bb4c7",
   "metadata": {},
   "outputs": [
    {
     "data": {
      "text/html": [
       "<div>\n",
       "<style scoped>\n",
       "    .dataframe tbody tr th:only-of-type {\n",
       "        vertical-align: middle;\n",
       "    }\n",
       "\n",
       "    .dataframe tbody tr th {\n",
       "        vertical-align: top;\n",
       "    }\n",
       "\n",
       "    .dataframe thead th {\n",
       "        text-align: right;\n",
       "    }\n",
       "</style>\n",
       "<table border=\"1\" class=\"dataframe\">\n",
       "  <thead>\n",
       "    <tr style=\"text-align: right;\">\n",
       "      <th></th>\n",
       "      <th>Prob of - benign cancer (2)</th>\n",
       "      <th>Prob of - malignant cancer (4)</th>\n",
       "    </tr>\n",
       "  </thead>\n",
       "  <tbody>\n",
       "    <tr>\n",
       "      <th>0</th>\n",
       "      <td>1.000000</td>\n",
       "      <td>0.000000</td>\n",
       "    </tr>\n",
       "    <tr>\n",
       "      <th>1</th>\n",
       "      <td>0.333333</td>\n",
       "      <td>0.666667</td>\n",
       "    </tr>\n",
       "    <tr>\n",
       "      <th>2</th>\n",
       "      <td>1.000000</td>\n",
       "      <td>0.000000</td>\n",
       "    </tr>\n",
       "    <tr>\n",
       "      <th>3</th>\n",
       "      <td>1.000000</td>\n",
       "      <td>0.000000</td>\n",
       "    </tr>\n",
       "    <tr>\n",
       "      <th>4</th>\n",
       "      <td>1.000000</td>\n",
       "      <td>0.000000</td>\n",
       "    </tr>\n",
       "    <tr>\n",
       "      <th>5</th>\n",
       "      <td>0.333333</td>\n",
       "      <td>0.666667</td>\n",
       "    </tr>\n",
       "    <tr>\n",
       "      <th>6</th>\n",
       "      <td>0.000000</td>\n",
       "      <td>1.000000</td>\n",
       "    </tr>\n",
       "    <tr>\n",
       "      <th>7</th>\n",
       "      <td>1.000000</td>\n",
       "      <td>0.000000</td>\n",
       "    </tr>\n",
       "    <tr>\n",
       "      <th>8</th>\n",
       "      <td>1.000000</td>\n",
       "      <td>0.000000</td>\n",
       "    </tr>\n",
       "    <tr>\n",
       "      <th>9</th>\n",
       "      <td>1.000000</td>\n",
       "      <td>0.000000</td>\n",
       "    </tr>\n",
       "  </tbody>\n",
       "</table>\n",
       "</div>"
      ],
      "text/plain": [
       "   Prob of - benign cancer (2)  Prob of - malignant cancer (4)\n",
       "0                     1.000000                        0.000000\n",
       "1                     0.333333                        0.666667\n",
       "2                     1.000000                        0.000000\n",
       "3                     1.000000                        0.000000\n",
       "4                     1.000000                        0.000000\n",
       "5                     0.333333                        0.666667\n",
       "6                     0.000000                        1.000000\n",
       "7                     1.000000                        0.000000\n",
       "8                     1.000000                        0.000000\n",
       "9                     1.000000                        0.000000"
      ]
     },
     "execution_count": 99,
     "metadata": {},
     "output_type": "execute_result"
    }
   ],
   "source": [
    "y_pred_prob_df = pd.DataFrame(data=y_pred_prob, columns=['Prob of - benign cancer (2)', 'Prob of - malignant cancer (4)'])\n",
    "\n",
    "y_pred_prob_df"
   ]
  },
  {
   "cell_type": "code",
   "execution_count": 101,
   "id": "35ef79cb",
   "metadata": {},
   "outputs": [
    {
     "data": {
      "text/plain": [
       "array([0.        , 0.66666667, 0.        , 0.        , 0.        ,\n",
       "       0.66666667, 1.        , 0.        , 0.        , 0.        ])"
      ]
     },
     "execution_count": 101,
     "metadata": {},
     "output_type": "execute_result"
    }
   ],
   "source": [
    "## print the first 10 predicted probabilities for class 4 - Probability of malignant cancer\n",
    "\n",
    "knn.predict_proba(X_test)[0:10, 1]"
   ]
  },
  {
   "cell_type": "code",
   "execution_count": 102,
   "id": "3402b773",
   "metadata": {},
   "outputs": [],
   "source": [
    "# store the predicted probabilities for class 4 - Probability of malignant cancer\n",
    "\n",
    "y_pred_1 = knn.predict_proba(X_test)[:, 1]"
   ]
  },
  {
   "cell_type": "code",
   "execution_count": 103,
   "id": "94e33245",
   "metadata": {},
   "outputs": [
    {
     "data": {
      "text/plain": [
       "Text(0, 0.5, 'Frequency')"
      ]
     },
     "execution_count": 103,
     "metadata": {},
     "output_type": "execute_result"
    },
    {
     "data": {
      "image/png": "[encoded data removed]",
      "text/plain": [
       "<Figure size 432x288 with 1 Axes>"
      ]
     },
     "metadata": {
      "needs_background": "light"
     },
     "output_type": "display_data"
    }
   ],
   "source": [
    "# plot histogram of predicted probabilities\n",
    "\n",
    "\n",
    "# adjust figure size\n",
    "plt.figure(figsize=(6,4))\n",
    "\n",
    "\n",
    "# adjust the font size \n",
    "plt.rcParams['font.size'] = 12\n",
    "\n",
    "\n",
    "# plot histogram with 10 bins\n",
    "plt.hist(y_pred_1, bins = 10)\n",
    "\n",
    "\n",
    "# set the title of predicted probabilities\n",
    "plt.title('Histogram of predicted probabilities of malignant cancer')\n",
    "\n",
    "\n",
    "# set the x-axis limit\n",
    "plt.xlim(0,1)\n",
    "\n",
    "\n",
    "# set the title\n",
    "plt.xlabel('Predicted probabilities of malignant cancer')\n",
    "plt.ylabel('Frequency')"
   ]
  },
  {
   "cell_type": "code",
   "execution_count": 104,
   "id": "6be116e9",
   "metadata": {},
   "outputs": [
    {
     "data": {
      "image/png": "[encoded data removed]",
      "text/plain": [
       "<Figure size 432x288 with 1 Axes>"
      ]
     },
     "metadata": {
      "needs_background": "light"
     },
     "output_type": "display_data"
    }
   ],
   "source": [
    "# plot ROC Curve\n",
    "\n",
    "from sklearn.metrics import roc_curve\n",
    "\n",
    "fpr, tpr, thresholds = roc_curve(y_test, y_pred_1, pos_label=4)\n",
    "\n",
    "plt.figure(figsize=(6,4))\n",
    "\n",
    "plt.plot(fpr, tpr, linewidth=2)\n",
    "\n",
    "plt.plot([0,1], [0,1], 'k--' )\n",
    "\n",
    "plt.rcParams['font.size'] = 12\n",
    "\n",
    "plt.title('ROC curve for Breast Cancer kNN classifier')\n",
    "\n",
    "plt.xlabel('False Positive Rate (1 - Specificity)')\n",
    "\n",
    "plt.ylabel('True Positive Rate (Sensitivity)')\n",
    "\n",
    "plt.show()"
   ]
  },
  {
   "cell_type": "code",
   "execution_count": 105,
   "id": "309420ea",
   "metadata": {},
   "outputs": [
    {
     "name": "stdout",
     "output_type": "stream",
     "text": [
      "ROC AUC : 0.9922\n"
     ]
    }
   ],
   "source": [
    "# compute ROC AUC\n",
    "\n",
    "from sklearn.metrics import roc_auc_score\n",
    "\n",
    "ROC_AUC = roc_auc_score(y_test, y_pred_1)\n",
    "\n",
    "print('ROC AUC : {:.4f}'.format(ROC_AUC))"
   ]
  },
  {
   "cell_type": "code",
   "execution_count": 106,
   "id": "e5949ef4",
   "metadata": {},
   "outputs": [
    {
     "name": "stdout",
     "output_type": "stream",
     "text": [
      "Cross validated ROC AUC : 0.9723\n"
     ]
    }
   ],
   "source": [
    "# calculate cross-validated ROC AUC \n",
    "\n",
    "from sklearn.model_selection import cross_val_score\n",
    "\n",
    "Cross_validated_ROC_AUC = cross_val_score(knn_7, X_train, y_train, cv=5, scoring='roc_auc').mean()\n",
    "\n",
    "print('Cross validated ROC AUC : {:.4f}'.format(Cross_validated_ROC_AUC))"
   ]
  },
  {
   "cell_type": "markdown",
   "id": "2d2e8c5a",
   "metadata": {},
   "source": [
    "#### Interpretation\n",
    "Our Cross Validated ROC AUC is very close to 1. So, we can conclude that, the KNN classifier is indeed a very good model."
   ]
  },
  {
   "cell_type": "code",
   "execution_count": null,
   "id": "b7579548",
   "metadata": {},
   "outputs": [],
   "source": []
  }
 ],
 "metadata": {
  "kernelspec": {
   "display_name": "Python 3",
   "language": "python",
   "name": "python3"
  },
  "language_info": {
   "codemirror_mode": {
    "name": "ipython",
    "version": 3
   },
   "file_extension": ".py",
   "mimetype": "text/x-python",
   "name": "python",
   "nbconvert_exporter": "python",
   "pygments_lexer": "ipython3",
   "version": "3.8.8"
  }
 },
 "nbformat": 4,
 "nbformat_minor": 5
}
